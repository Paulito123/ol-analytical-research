{
 "cells": [
  {
   "cell_type": "markdown",
   "metadata": {},
   "source": [
    "## Test of API for Permission Tree of Validators on 0L\n",
    "### Using https://github.com/0L-Analytics/permission-tree-monitoring\n",
    "#### Credit to: https://github.com/0L-Analytics/permission-tree-monitoring/commits?author=agouin for building the API"
   ]
  },
  {
   "cell_type": "code",
   "execution_count": 1,
   "metadata": {},
   "outputs": [],
   "source": [
    "import requests"
   ]
  },
  {
   "cell_type": "markdown",
   "metadata": {},
   "source": [
    "### Validator Permission Tree"
   ]
  },
  {
   "cell_type": "code",
   "execution_count": 2,
   "metadata": {},
   "outputs": [
    {
     "name": "stdout",
     "output_type": "stream",
     "text": [
      "https://0l.interblockcha.in:444/permission-tree/validator/64B21681CE1C34854498ED92D76432A2\n"
     ]
    }
   ],
   "source": [
    "node_address = \"64B21681CE1C34854498ED92D76432A2\"\n",
    "web_address = \"https://0l.interblockcha.in:444/permission-tree/validator/\"\n",
    "print(web_address+node_address)"
   ]
  },
  {
   "cell_type": "code",
   "execution_count": 3,
   "metadata": {},
   "outputs": [
    {
     "name": "stdout",
     "output_type": "stream",
     "text": [
      "<Response [200]>\n"
     ]
    }
   ],
   "source": [
    "response = requests.get(web_address+node_address)\n",
    "\n",
    "# /permission-tree/validator/\n",
    "print(response)"
   ]
  },
  {
   "cell_type": "code",
   "execution_count": 4,
   "metadata": {},
   "outputs": [
    {
     "data": {
      "text/plain": [
       "{'address': '64b21681ce1c34854498ed92d76432a2',\n",
       " 'parent': '00000000000000000000000000000000',\n",
       " 'version_onboarded': 0,\n",
       " 'children': [{'address': '84417cef5647097127e1bc24fd1002c6',\n",
       "   'parent': '64b21681ce1c34854498ed92d76432a2',\n",
       "   'epoch_onboarded': 18,\n",
       "   'version_onboarded': 4349485},\n",
       "  {'address': '1c03e956dd7afc612e4efe240c23365d',\n",
       "   'parent': '64b21681ce1c34854498ed92d76432a2',\n",
       "   'epoch_onboarded': 35,\n",
       "   'version_onboarded': 8818948}]}"
      ]
     },
     "execution_count": 4,
     "metadata": {},
     "output_type": "execute_result"
    }
   ],
   "source": [
    "response.json()"
   ]
  },
  {
   "cell_type": "code",
   "execution_count": 5,
   "metadata": {},
   "outputs": [
    {
     "name": "stdout",
     "output_type": "stream",
     "text": [
      "{'address': '64b21681ce1c34854498ed92d76432a2', 'parent': '00000000000000000000000000000000', 'version_onboarded': 0, 'children': [{'address': '84417cef5647097127e1bc24fd1002c6', 'parent': '64b21681ce1c34854498ed92d76432a2', 'epoch_onboarded': 18, 'version_onboarded': 4349485}, {'address': '1c03e956dd7afc612e4efe240c23365d', 'parent': '64b21681ce1c34854498ed92d76432a2', 'epoch_onboarded': 35, 'version_onboarded': 8818948}]}\n"
     ]
    }
   ],
   "source": [
    "print(response.json())"
   ]
  },
  {
   "cell_type": "markdown",
   "metadata": {},
   "source": [
    "### Permission Tree Stats"
   ]
  },
  {
   "cell_type": "code",
   "execution_count": 13,
   "metadata": {},
   "outputs": [
    {
     "name": "stdout",
     "output_type": "stream",
     "text": [
      "https://0l.interblockcha.in:444/permission-tree/stats\n"
     ]
    }
   ],
   "source": [
    "stats_address = \"https://0l.interblockcha.in:444/permission-tree/stats\"\n",
    "print(stats_address)"
   ]
  },
  {
   "cell_type": "code",
   "execution_count": 14,
   "metadata": {},
   "outputs": [
    {
     "name": "stdout",
     "output_type": "stream",
     "text": [
      "<Response [200]>\n"
     ]
    }
   ],
   "source": [
    "response = requests.get(stats_address)\n",
    "print(response)"
   ]
  },
  {
   "cell_type": "code",
   "execution_count": 15,
   "metadata": {},
   "outputs": [
    {
     "name": "stdout",
     "output_type": "stream",
     "text": [
      "{'allAccountCount': 2790, 'allMinerCount': 2309, 'activeMinerCount': 1029}\n"
     ]
    }
   ],
   "source": [
    "print(response.json())"
   ]
  },
  {
   "cell_type": "markdown",
   "metadata": {},
   "source": [
    "### Miner Permission Tree"
   ]
  },
  {
   "cell_type": "code",
   "execution_count": 9,
   "metadata": {},
   "outputs": [
    {
     "name": "stdout",
     "output_type": "stream",
     "text": [
      "https://0l.interblockcha.in:444/permission-tree/miner/1ee5432bd3c6374e33798c4c9edcd0cf\n"
     ]
    }
   ],
   "source": [
    "miner_address = \"1ee5432bd3c6374e33798c4c9edcd0cf\"\n",
    "web_address = \"https://0l.interblockcha.in:444/permission-tree/miner/\"\n",
    "print(web_address+miner_address)"
   ]
  },
  {
   "cell_type": "code",
   "execution_count": 10,
   "metadata": {},
   "outputs": [
    {
     "name": "stdout",
     "output_type": "stream",
     "text": [
      "<Response [200]>\n"
     ]
    }
   ],
   "source": [
    "response = requests.get(web_address+miner_address)\n",
    "\n",
    "# /permission-tree/validator/\n",
    "print(response)"
   ]
  },
  {
   "cell_type": "code",
   "execution_count": 11,
   "metadata": {},
   "outputs": [
    {
     "name": "stdout",
     "output_type": "stream",
     "text": [
      "{'address': '1ee5432bd3c6374e33798c4c9edcd0cf', 'parent': 'b080a6e0464cca28ed6c7e116fecb837', 'epoch_onboarded': 21, 'version_onboarded': 5250021, 'has_tower': True, 'is_active': True, 'children': [{'address': 'e201921930972ecac3a4a38afa10c7fd', 'parent': '1ee5432bd3c6374e33798c4c9edcd0cf', 'epoch_onboarded': 21, 'version_onboarded': 5250261, 'has_tower': True, 'is_active': False}, {'address': '17cae8af525724f50475c4203f8255f9', 'parent': '1ee5432bd3c6374e33798c4c9edcd0cf', 'epoch_onboarded': 21, 'version_onboarded': 5250458, 'has_tower': True, 'is_active': True}, {'address': '356253dddaf8e591b450e45842f065b9', 'parent': '1ee5432bd3c6374e33798c4c9edcd0cf', 'epoch_onboarded': 21, 'version_onboarded': 5250701, 'has_tower': True, 'is_active': True}, {'address': '9b443b667d3dc0ec10da6d7284ac571c', 'parent': '1ee5432bd3c6374e33798c4c9edcd0cf', 'epoch_onboarded': 21, 'version_onboarded': 5250789, 'has_tower': True, 'is_active': False}, {'address': '46eab336f65114d9eef10c6df0bf1580', 'parent': '1ee5432bd3c6374e33798c4c9edcd0cf', 'epoch_onboarded': 21, 'version_onboarded': 5250843, 'has_tower': True, 'is_active': False}, {'address': 'e0bea049c0fa1d809dc9bc5b9ff8570b', 'parent': '1ee5432bd3c6374e33798c4c9edcd0cf', 'epoch_onboarded': 21, 'version_onboarded': 5250934, 'has_tower': False, 'is_active': False}, {'address': '8e5d31869951193c7eff55646b5e6275', 'parent': '1ee5432bd3c6374e33798c4c9edcd0cf', 'epoch_onboarded': 21, 'version_onboarded': 5251115, 'has_tower': True, 'is_active': False}, {'address': 'c79233026df3ce484900758906eed2d3', 'parent': '1ee5432bd3c6374e33798c4c9edcd0cf', 'epoch_onboarded': 21, 'version_onboarded': 5251298, 'has_tower': True, 'is_active': False}, {'address': '2be889b2fc61f7a8f755188fa9d487cc', 'parent': '1ee5432bd3c6374e33798c4c9edcd0cf', 'epoch_onboarded': 21, 'version_onboarded': 5251622, 'has_tower': True, 'is_active': False}, {'address': 'a2962d2260da39c85d63c4816bb52a0c', 'parent': '1ee5432bd3c6374e33798c4c9edcd0cf', 'epoch_onboarded': 21, 'version_onboarded': 5251745, 'has_tower': True, 'is_active': False}, {'address': '0afa843ebcef41e31ab5def2c700b25c', 'parent': '1ee5432bd3c6374e33798c4c9edcd0cf', 'epoch_onboarded': 21, 'version_onboarded': 5251824, 'has_tower': True, 'is_active': False}, {'address': '51449480fb0c81ea50a51c6eedf5daf0', 'parent': '1ee5432bd3c6374e33798c4c9edcd0cf', 'epoch_onboarded': 21, 'version_onboarded': 5252249, 'has_tower': True, 'is_active': False}, {'address': '3f9fb9373492a3ec10714214ab53f071', 'parent': '1ee5432bd3c6374e33798c4c9edcd0cf', 'epoch_onboarded': 21, 'version_onboarded': 5252327, 'has_tower': True, 'is_active': False}, {'address': 'cfffceaf82372896f936effa5473cc8f', 'parent': '1ee5432bd3c6374e33798c4c9edcd0cf', 'epoch_onboarded': 21, 'version_onboarded': 5252382, 'has_tower': True, 'is_active': True}, {'address': '4a6a1930e4f79e16275c378657986ecc', 'parent': '1ee5432bd3c6374e33798c4c9edcd0cf', 'epoch_onboarded': 21, 'version_onboarded': 5252476, 'has_tower': True, 'is_active': False}, {'address': 'e675af36602a42416ae7c66d77838595', 'parent': '1ee5432bd3c6374e33798c4c9edcd0cf', 'epoch_onboarded': 21, 'version_onboarded': 5252749, 'has_tower': True, 'is_active': False}, {'address': '2fdadcaf46532dfb8da1f6bb97a096c6', 'parent': '1ee5432bd3c6374e33798c4c9edcd0cf', 'epoch_onboarded': 21, 'version_onboarded': 5252910, 'has_tower': True, 'is_active': False}, {'address': 'e93afd0e72f1893b5bba89a98ec46474', 'parent': '1ee5432bd3c6374e33798c4c9edcd0cf', 'epoch_onboarded': 21, 'version_onboarded': 5253135, 'has_tower': True, 'is_active': False}, {'address': '29a166acc2372470366efe7b4b06829b', 'parent': '1ee5432bd3c6374e33798c4c9edcd0cf', 'epoch_onboarded': 21, 'version_onboarded': 5254355, 'has_tower': True, 'is_active': False}, {'address': 'b2e86a1bee0e63602920eaa90a37c91e', 'parent': '1ee5432bd3c6374e33798c4c9edcd0cf', 'epoch_onboarded': 21, 'version_onboarded': 5266896, 'has_tower': True, 'is_active': False}, {'address': 'ac9c11f794b2d3c88859416520e18be9', 'parent': '1ee5432bd3c6374e33798c4c9edcd0cf', 'epoch_onboarded': 21, 'version_onboarded': 5266998, 'has_tower': True, 'is_active': True}, {'address': '629a734dec6847b75d32b0fb5db6ec6f', 'parent': '1ee5432bd3c6374e33798c4c9edcd0cf', 'epoch_onboarded': 21, 'version_onboarded': 5267084, 'has_tower': True, 'is_active': False}, {'address': 'f2daf2e7bc84b73b6313372b9bf02ff6', 'parent': '1ee5432bd3c6374e33798c4c9edcd0cf', 'epoch_onboarded': 21, 'version_onboarded': 5267146, 'has_tower': True, 'is_active': False}, {'address': '5acc6df98c77d1aa9ee7e3cc3c2f23dd', 'parent': '1ee5432bd3c6374e33798c4c9edcd0cf', 'epoch_onboarded': 21, 'version_onboarded': 5267208, 'has_tower': True, 'is_active': False}, {'address': '54d5d5dd28c358060e7600191ec8f515', 'parent': '1ee5432bd3c6374e33798c4c9edcd0cf', 'epoch_onboarded': 21, 'version_onboarded': 5267267, 'has_tower': True, 'is_active': True}, {'address': '1a3f3a4be5b5cff0a1215f220056e4a9', 'parent': '1ee5432bd3c6374e33798c4c9edcd0cf', 'epoch_onboarded': 21, 'version_onboarded': 5267322, 'has_tower': True, 'is_active': True}, {'address': 'a87f7aca8726827fd0044c9eba32a099', 'parent': '1ee5432bd3c6374e33798c4c9edcd0cf', 'epoch_onboarded': 21, 'version_onboarded': 5267377, 'has_tower': True, 'is_active': True}, {'address': '2866b28dbdef5c67704b2e8698304d95', 'parent': '1ee5432bd3c6374e33798c4c9edcd0cf', 'epoch_onboarded': 21, 'version_onboarded': 5267427, 'has_tower': True, 'is_active': False}, {'address': '1166c966da6c555a24dcae060585384e', 'parent': '1ee5432bd3c6374e33798c4c9edcd0cf', 'epoch_onboarded': 21, 'version_onboarded': 5270420, 'has_tower': True, 'is_active': True}, {'address': '25b8147908f7578a7e314d3d59dc70d6', 'parent': '1ee5432bd3c6374e33798c4c9edcd0cf', 'epoch_onboarded': 21, 'version_onboarded': 5270466, 'has_tower': True, 'is_active': True}, {'address': 'd5cad17350a4a651385aa9eebcb47fea', 'parent': '1ee5432bd3c6374e33798c4c9edcd0cf', 'epoch_onboarded': 21, 'version_onboarded': 5270522, 'has_tower': True, 'is_active': False}, {'address': '72249a63279e034db4d6ef4bc0677bf5', 'parent': '1ee5432bd3c6374e33798c4c9edcd0cf', 'epoch_onboarded': 21, 'version_onboarded': 5270594, 'has_tower': True, 'is_active': True}, {'address': '99451a929804d840abad55518286d4f5', 'parent': '1ee5432bd3c6374e33798c4c9edcd0cf', 'epoch_onboarded': 21, 'version_onboarded': 5270643, 'has_tower': False, 'is_active': False}, {'address': '0d924ab78b2e61605daa39121a8a9904', 'parent': '1ee5432bd3c6374e33798c4c9edcd0cf', 'epoch_onboarded': 21, 'version_onboarded': 5270730, 'has_tower': True, 'is_active': False}, {'address': 'c1625c5bab2175bebf2d028a705bb3b0', 'parent': '1ee5432bd3c6374e33798c4c9edcd0cf', 'epoch_onboarded': 21, 'version_onboarded': 5270776, 'has_tower': True, 'is_active': True}, {'address': '8ad3ceec091b360597af8b78354064c5', 'parent': '1ee5432bd3c6374e33798c4c9edcd0cf', 'epoch_onboarded': 21, 'version_onboarded': 5270842, 'has_tower': True, 'is_active': False}, {'address': 'b9f569261d3cd154fba45a37b866eb60', 'parent': '1ee5432bd3c6374e33798c4c9edcd0cf', 'epoch_onboarded': 21, 'version_onboarded': 5271173, 'has_tower': True, 'is_active': True}, {'address': '88271b747419f809a9d9e71aab6ef3dc', 'parent': '1ee5432bd3c6374e33798c4c9edcd0cf', 'epoch_onboarded': 21, 'version_onboarded': 5275479, 'has_tower': True, 'is_active': False}, {'address': '4f4a003fe8b120dccd6a297769a133dd', 'parent': '1ee5432bd3c6374e33798c4c9edcd0cf', 'epoch_onboarded': 22, 'version_onboarded': 5516322, 'has_tower': True, 'is_active': False}, {'address': 'edf69789beb5799715d45dfc5f9f3d56', 'parent': '1ee5432bd3c6374e33798c4c9edcd0cf', 'epoch_onboarded': 22, 'version_onboarded': 5536069, 'has_tower': False, 'is_active': False}, {'address': 'd73053222636915a3e90c69bc22521ea', 'parent': '1ee5432bd3c6374e33798c4c9edcd0cf', 'epoch_onboarded': 24, 'version_onboarded': 6052805, 'has_tower': False, 'is_active': False}, {'address': '532e99cc0607c6af3782a63a123ea838', 'parent': '1ee5432bd3c6374e33798c4c9edcd0cf', 'epoch_onboarded': 29, 'version_onboarded': 7366399, 'has_tower': True, 'is_active': False}]}\n"
     ]
    }
   ],
   "source": [
    "print(response.json())"
   ]
  }
 ],
 "metadata": {
  "kernelspec": {
   "display_name": "ol-analytics-research",
   "language": "python",
   "name": "ol-analytics-research"
  },
  "language_info": {
   "codemirror_mode": {
    "name": "ipython",
    "version": 3
   },
   "file_extension": ".py",
   "mimetype": "text/x-python",
   "name": "python",
   "nbconvert_exporter": "python",
   "pygments_lexer": "ipython3",
   "version": "3.9.2"
  },
  "orig_nbformat": 4,
  "vscode": {
   "interpreter": {
    "hash": "916dbcbb3f70747c44a77c7bcd40155683ae19c65e1c03b4aa3499c5328201f1"
   }
  }
 },
 "nbformat": 4,
 "nbformat_minor": 2
}
