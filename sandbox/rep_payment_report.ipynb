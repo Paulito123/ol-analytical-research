{
 "cells": [
  {
   "cell_type": "markdown",
   "metadata": {},
   "source": [
    "# 0L Contributors payments report \n",
    "## Generate report\n",
    "### Pre-requisites\n",
    "- access to well formed payments.json files\n",
    "- a correctly configured config.py file\n",
    "### TODO\n",
    "\n",
    "### Imports and loading variables"
   ]
  },
  {
   "cell_type": "code",
   "execution_count": 10,
   "metadata": {},
   "outputs": [
    {
     "name": "stdout",
     "output_type": "stream",
     "text": [
      "{'5F8AC83A9B3BF2EFF20A6C16CD05C111': {'identities': [{'context': 'Discord', 'id': '776520842070720514', 'username': 'Paulito#0564'}, {'context': 'Github', 'id': 'paulito123', 'username': 'Paulito'}], 'roles': [{'name': 'broker', 'context': 'analytics-wg'}]}, '5DB97DD068263449C8EB369DC2312AFA': {'identities': [{'context': 'Discord', 'id': '776520842070799999', 'username': 'Paulito#9999'}, {'context': 'Github', 'id': 'paulito999', 'username': 'Dummito'}], 'roles': [{'name': 'developer', 'context': 'analytics-wg'}]}, 'E8DF1AFD258A10BD0392E1A8D274CC81': {'identities': [{'context': 'Discord', 'id': '776520842070700000', 'username': 'Paulito#0000'}, {'context': 'Github', 'id': 'paulito000', 'username': 'Dummito2'}], 'roles': [{'name': 'developer', 'context': 'hustle-karma-wg'}]}}\n"
     ]
    }
   ],
   "source": [
    "import requests\n",
    "import json\n",
    "import pandas as pd\n",
    "import os\n",
    "\n",
    "from config import Config\n",
    "\n",
    "f = open(Config.CONTRIBUTORS_FILEPATH)\n",
    "contributors = json.load(f)\n",
    "print(contributors)"
   ]
  },
  {
   "cell_type": "markdown",
   "metadata": {},
   "source": [
    "### Flatten data"
   ]
  },
  {
   "cell_type": "code",
   "execution_count": 11,
   "metadata": {},
   "outputs": [
    {
     "name": "stdout",
     "output_type": "stream",
     "text": [
      "[{'tx_key': '00000000000000005f8ac83a9b3bf2eff20a6c16cd05c111', 'tx_sequence_number': 0, 'tx_transaction_version': 70167699, 'tx_amount': 500000000, 'tx_currency': 'GAS', 'tx_metadata': '6163636f756e742067656e65726174696f6e', 'tx_receiver': '5f8ac83a9b3bf2eff20a6c16cd05c111', 'tx_sender': '0cb4fef910b686e5ae39049fb892cb24', 'tx_type': 'receivedpayment', 'payment-round': 'PR20221001_001', 'artifacts': ['https://github.com/paulito123/ol-analytical-research'], 'contributor': '5F8AC83A9B3BF2EFF20A6C16CD05C111', 'contributor_role': 'broker', 'description': 'Coordinating the project, developing 50%', 'workgroup_id': 'analytics-wg', 'assignment_ref': 'https://airtable.com/appuiDshjiBzOAGl2/tblixhNzkEaKt3a75/viw77ncDURPkx2Mln/rec4D7I4k2KS4ytt5?blocks=hide', 'payment_type': 'work-related', 'reviewer': '5F8AC83A9B3BF2EFF20A6C16CD05C111'}, {'tx_key': '00000000000000005db97dd068263449c8eb369dc2312afa', 'tx_sequence_number': 104, 'tx_transaction_version': 70340591, 'tx_amount': 137853170, 'tx_currency': 'GAS', 'tx_metadata': '66756c6c6e6f64655f73756273696479', 'tx_receiver': '5db97dd068263449c8eb369dc2312afa', 'tx_sender': '00000000000000000000000000000000', 'tx_type': 'receivedpayment', 'payment-round': 'PR20221001_001', 'artifacts': ['https://github.com/0L-Analytics/ol-analytical-research'], 'contributor': '5DB97DD068263449C8EB369DC2312AFA', 'contributor_role': 'developer', 'description': 'This is another dummy', 'workgroup_id': 'analytics-wg', 'assignment_ref': 'https://airtable.com/appuiDshjiBzOAGl2/tblixhNzkEaKt3a75/viw77ncDURPkx2Mln/recrJJkEMRt5aCYGT?blocks=hide', 'payment_type': 'work-related', 'reviewer': '5F8AC83A9B3BF2EFF20A6C16CD05C111'}, {'tx_key': '0000000000000000e8df1afd258a10bd0392e1a8d274cc81', 'tx_sequence_number': 103, 'tx_transaction_version': 70340591, 'tx_amount': 137853170, 'tx_currency': 'GAS', 'tx_metadata': '66756c6c6e6f64655f73756273696479', 'tx_receiver': 'e8df1afd258a10bd0392e1a8d274cc81', 'tx_sender': '00000000000000000000000000000000', 'tx_type': 'receivedpayment', 'payment-round': 'PR20221001_001', 'artifacts': [], 'contributor': 'E8DF1AFD258A10BD0392E1A8D274CC81', 'contributor_role': '', 'description': 'reviewing work done', 'workgroup_id': 'analytics-wg', 'assignment_ref': 'https://airtable.com/appuiDshjiBzOAGl2/tblixhNzkEaKt3a75/viw77ncDURPkx2Mln/recrJJkEMRt5aCYGT?blocks=hide', 'payment_type': 'review', 'reviewer': 'None'}, {'tx_key': '00000000000000005db97dd068263449c8eb369dc2312afa', 'tx_sequence_number': 105, 'tx_transaction_version': 70550900, 'tx_amount': 126763455, 'tx_currency': 'GAS', 'tx_metadata': '66756c6c6e6f64655f73756273696479', 'tx_receiver': '5db97dd068263449c8eb369dc2312afa', 'tx_sender': '00000000000000000000000000000000', 'tx_type': 'receivedpayment', 'payment-round': 'PR20221010_001', 'artifacts': ['http://Link.to.docs.produced'], 'contributor': '5DB97DD068263449C8EB369DC2312AFA', 'contributor_role': 'default-community-member', 'description': 'documentation produced', 'workgroup_id': 'hustle-karma-wg', 'assignment_ref': 'http://Link.to.airtable', 'payment_type': 'work-related', 'reviewer': 'E8DF1AFD258A10BD0392E1A8D274CC81'}, {'tx_key': '0000000000000000e8df1afd258a10bd0392e1a8d274cc81', 'tx_sequence_number': 104, 'tx_transaction_version': 70550900, 'tx_amount': 126763455, 'tx_currency': 'GAS', 'tx_metadata': '66756c6c6e6f64655f73756273696479', 'tx_receiver': 'e8df1afd258a10bd0392e1a8d274cc81', 'tx_sender': '00000000000000000000000000000000', 'tx_type': 'receivedpayment', 'payment-round': 'PR20221010_001', 'artifacts': ['http://link.to.testresults.on.github'], 'contributor': 'E8DF1AFD258A10BD0392E1A8D274CC81', 'contributor_role': 'tester', 'description': 'testing of API', 'workgroup_id': 'analytics-wg', 'assignment_ref': 'http://Link.to.airtable', 'payment_type': 'work-related', 'reviewer': '5DB97DD068263449C8EB369DC2312AFA'}]\n"
     ]
    }
   ],
   "source": [
    "# assign directory\n",
    "directory = Config.PAYMENTS_DIR\n",
    "\n",
    "# define output\n",
    "output = []\n",
    "\n",
    "# flatten payment files\n",
    "for filename in os.listdir(directory):\n",
    "    fq_filename = os.path.join(directory, filename)\n",
    "\n",
    "    if os.path.isfile(fq_filename) and filename[-5:] == \".json\":\n",
    "        # print(fq_filename)\n",
    "        with open(fq_filename, 'r') as f:\n",
    "            data = json.load(f)\n",
    "            for obj in data:\n",
    "                tx = obj['tx']\n",
    "                # print(tx)\n",
    "                flattened = {\n",
    "                    \"tx_key\": tx['key'],\n",
    "                    \"tx_sequence_number\": tx['sequence_number'],\n",
    "                    \"tx_transaction_version\": tx['transaction_version'],\n",
    "                    \"tx_amount\": tx['data']['amount']['amount'],\n",
    "                    \"tx_currency\": tx['data']['amount']['currency'],\n",
    "                    \"tx_metadata\": tx['data']['metadata'],\n",
    "                    \"tx_receiver\": tx['data']['receiver'],\n",
    "                    \"tx_sender\": tx['data']['sender'],\n",
    "                    \"tx_type\": tx['data']['type']\n",
    "                }\n",
    "                for k in obj.keys():\n",
    "                    if not k == 'tx': \n",
    "                        flattened[k] = obj[k]\n",
    "                \n",
    "                # print(flattened)\n",
    "                output.append(flattened)\n",
    "\n",
    "print(output)"
   ]
  },
  {
   "cell_type": "markdown",
   "metadata": {},
   "source": [
    "### Reorganise, enrich and filter report data"
   ]
  },
  {
   "cell_type": "code",
   "execution_count": 19,
   "metadata": {},
   "outputs": [
    {
     "name": "stdout",
     "output_type": "stream",
     "text": [
      "    payment-round     workgroup_id                       contributor  \\\n",
      "0  PR20221001_001     analytics-wg  5F8AC83A9B3BF2EFF20A6C16CD05C111   \n",
      "1  PR20221001_001     analytics-wg  5DB97DD068263449C8EB369DC2312AFA   \n",
      "2  PR20221001_001     analytics-wg  E8DF1AFD258A10BD0392E1A8D274CC81   \n",
      "3  PR20221010_001  hustle-karma-wg  5DB97DD068263449C8EB369DC2312AFA   \n",
      "4  PR20221010_001     analytics-wg  E8DF1AFD258A10BD0392E1A8D274CC81   \n",
      "\n",
      "           contributor_role                               description  \\\n",
      "0                    broker  Coordinating the project, developing 50%   \n",
      "1                 developer                     This is another dummy   \n",
      "2                                                 reviewing work done   \n",
      "3  default-community-member                    documentation produced   \n",
      "4                    tester                            testing of API   \n",
      "\n",
      "   payment_type                                     assignment_ref  \\\n",
      "0  work-related  https://airtable.com/appuiDshjiBzOAGl2/tblixhN...   \n",
      "1  work-related  https://airtable.com/appuiDshjiBzOAGl2/tblixhN...   \n",
      "2        review  https://airtable.com/appuiDshjiBzOAGl2/tblixhN...   \n",
      "3  work-related                            http://Link.to.airtable   \n",
      "4  work-related                            http://Link.to.airtable   \n",
      "\n",
      "                           reviewer  \\\n",
      "0  5F8AC83A9B3BF2EFF20A6C16CD05C111   \n",
      "1  5F8AC83A9B3BF2EFF20A6C16CD05C111   \n",
      "2                              None   \n",
      "3  E8DF1AFD258A10BD0392E1A8D274CC81   \n",
      "4  5DB97DD068263449C8EB369DC2312AFA   \n",
      "\n",
      "                                             tx_key  tx_sequence_number  \\\n",
      "0  00000000000000005f8ac83a9b3bf2eff20a6c16cd05c111                   0   \n",
      "1  00000000000000005db97dd068263449c8eb369dc2312afa                 104   \n",
      "2  0000000000000000e8df1afd258a10bd0392e1a8d274cc81                 103   \n",
      "3  00000000000000005db97dd068263449c8eb369dc2312afa                 105   \n",
      "4  0000000000000000e8df1afd258a10bd0392e1a8d274cc81                 104   \n",
      "\n",
      "   tx_transaction_version  tx_amount tx_currency  \\\n",
      "0                70167699  500000000         GAS   \n",
      "1                70340591  137853170         GAS   \n",
      "2                70340591  137853170         GAS   \n",
      "3                70550900  126763455         GAS   \n",
      "4                70550900  126763455         GAS   \n",
      "\n",
      "                            tx_metadata                       tx_receiver  \\\n",
      "0  6163636f756e742067656e65726174696f6e  5f8ac83a9b3bf2eff20a6c16cd05c111   \n",
      "1      66756c6c6e6f64655f73756273696479  5db97dd068263449c8eb369dc2312afa   \n",
      "2      66756c6c6e6f64655f73756273696479  e8df1afd258a10bd0392e1a8d274cc81   \n",
      "3      66756c6c6e6f64655f73756273696479  5db97dd068263449c8eb369dc2312afa   \n",
      "4      66756c6c6e6f64655f73756273696479  e8df1afd258a10bd0392e1a8d274cc81   \n",
      "\n",
      "                          tx_sender          tx_type  \n",
      "0  0cb4fef910b686e5ae39049fb892cb24  receivedpayment  \n",
      "1  00000000000000000000000000000000  receivedpayment  \n",
      "2  00000000000000000000000000000000  receivedpayment  \n",
      "3  00000000000000000000000000000000  receivedpayment  \n",
      "4  00000000000000000000000000000000  receivedpayment  \n"
     ]
    }
   ],
   "source": [
    "f = open(Config.CONTRIBUTORS_FILEPATH)\n",
    "contributors = json.load(f)\n",
    "\n",
    "artifacts = {}\n",
    "data = []\n",
    "\n",
    "for p_object in output:\n",
    "    \n",
    "    if \"artifacts\" in p_object:\n",
    "        if len(p_object['artifacts']) > 0:\n",
    "            artifacts[p_object['tx_key']] = p_object['artifacts']\n",
    "        p_object.pop(\"artifacts\")\n",
    "    \n",
    "    data.append(p_object)\n",
    "\n",
    "df = pd.DataFrame(data, \n",
    "    columns = ['payment-round', 'workgroup_id', 'contributor', 'contributor_role',\n",
    "               'description','payment_type','assignment_ref','reviewer',\n",
    "               'tx_key', 'tx_sequence_number', 'tx_transaction_version',\n",
    "               'tx_amount', 'tx_currency', 'tx_metadata', 'tx_receiver',\n",
    "               'tx_sender', 'tx_type'])\n",
    "\n",
    "print(df)  \n"
   ]
  }
 ],
 "metadata": {
  "kernelspec": {
   "display_name": "ol-analytics-research",
   "language": "python",
   "name": "ol-analytics-research"
  },
  "language_info": {
   "codemirror_mode": {
    "name": "ipython",
    "version": 3
   },
   "file_extension": ".py",
   "mimetype": "text/x-python",
   "name": "python",
   "nbconvert_exporter": "python",
   "pygments_lexer": "ipython3",
   "version": "3.9.2"
  },
  "orig_nbformat": 4,
  "vscode": {
   "interpreter": {
    "hash": "31f2aee4e71d21fbe5cf8b01ff0e069b9275f58929596ceb00d14d90e3e16cd6"
   }
  }
 },
 "nbformat": 4,
 "nbformat_minor": 2
}
