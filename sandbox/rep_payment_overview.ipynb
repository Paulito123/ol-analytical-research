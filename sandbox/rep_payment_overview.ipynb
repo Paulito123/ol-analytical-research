{
 "cells": [
  {
   "cell_type": "markdown",
   "metadata": {},
   "source": [
    "# 0L Contributors payments report \n",
    "## Generate data\n",
    "### Pre-requisites\n",
    "- access to a well formed contributors.json file\n",
    "- a correctly configured config.py file\n",
    "### TODO\n",
    "- add a check on sender address\n",
    "\n",
    "### Imports and loading variables"
   ]
  },
  {
   "cell_type": "code",
   "execution_count": 1,
   "metadata": {},
   "outputs": [
    {
     "name": "stdout",
     "output_type": "stream",
     "text": [
      "[{'account': '5F8AC83A9B3BF2EFF20A6C16CD05C111', 'identities': [{'context': 'Discord', 'id': '776520842070720514', 'username': 'Paulito#0564'}, {'context': 'Github', 'id': 'paulito123', 'username': 'Paulito'}], 'roles': [{'name': 'broker', 'context': 'analytics-wg'}]}, {'account': '5DB97DD068263449C8EB369DC2312AFA', 'identities': [{'context': 'Discord', 'id': '776520842070799999', 'username': 'Paulito#9999'}, {'context': 'Github', 'id': 'paulito999', 'username': 'Dummito'}], 'roles': [{'name': 'developer', 'context': 'analytics-wg'}]}, {'account': 'E8DF1AFD258A10BD0392E1A8D274CC81', 'identities': [{'context': 'Discord', 'id': '776520842070700000', 'username': 'Paulito#0000'}, {'context': 'Github', 'id': 'paulito000', 'username': 'Dummito2'}], 'roles': [{'name': 'developer', 'context': 'hustle-karma-wg'}]}]\n"
     ]
    }
   ],
   "source": [
    "import requests\n",
    "import json\n",
    "import pandas as pd\n",
    "import csv\n",
    "import os\n",
    "\n",
    "from config import Config\n",
    "\n",
    "f = open(f\"{Config.PROJECT_PATH}/assets/contributors.json\")\n",
    "contributors = json.load(f)\n",
    "print(contributors)"
   ]
  },
  {
   "cell_type": "markdown",
   "metadata": {},
   "source": [
    "### Get payments and generate the payment.json file\n",
    "Here we will use an account list, generated from the contributors.json file, to iterate the accounts and fetch transactions which are relevant for us. On the fly, we are fetching on-chain transaction data that can be linked to real world data and generate a payments.json file which will have place holders for custom information linked to the payments."
   ]
  },
  {
   "cell_type": "code",
   "execution_count": 2,
   "metadata": {},
   "outputs": [
    {
     "name": "stdout",
     "output_type": "stream",
     "text": [
      "[]\n"
     ]
    }
   ],
   "source": [
    "# extract all addresses to be evaluated\n",
    "address_list = [contributor['account'] for contributor in contributors]\n",
    "\n",
    "# result list of all transactions, wrapped by mission data\n",
    "result = []\n",
    "\n",
    "# get all payments for address list between the given block height\n",
    "for addr in address_list:\n",
    "    \n",
    "    end_not_reached = True\n",
    "    start = 0\n",
    "    limit = 1000\n",
    "    while end_not_reached:\n",
    "        url = f\"https://0lexplorer.io/api/proxy/node/events?address={addr}&start={start}&limit={limit}\"\n",
    "        response = requests.get(url)\n",
    "        response_json = response.json()\n",
    "        if \"result\" in response_json:\n",
    "            payload = response_json[\"result\"]\n",
    "            # check the payload for data of interest\n",
    "            for tx in reversed(payload):\n",
    "                if tx['transaction_version'] >= Config.START_BLOCK:\n",
    "                    if tx['transaction_version'] <= Config.END_BLOCK and \\\n",
    "                       tx['data']['type'] in ['receivedpayment']:\n",
    "                        # create payment entry\n",
    "                        payment = {\n",
    "                            \"contributor\": f\"{addr}\",\n",
    "                            \"workgroup_id\": \"MANUAL INPUT\",     # analytics-wg, ... \n",
    "                            \"assignment_ref\": \"MANUAL INPUT\",   # URL to airtable of custom ID?\n",
    "                            \"payment_type\": \"MANUAL INPUT\",     # work-related, bonus, rectification, ...\n",
    "                            \"description\": \"MANUAL INPUT\",      # Short description for reporting\n",
    "                            \"contributor_role\": \"MANUAL INPUT\", # broker, developer, analyst, ...\n",
    "                            \"reviewer\": \"MANUAL INPUT\",         # broker role?\n",
    "                            \"tx\": tx,\n",
    "                            \"artifacts\":[\"MANUAL INPUT\"],       # Links to work delivered if applicable\n",
    "                            }\n",
    "                        result.append(payment)\n",
    "                else:\n",
    "                    break\n",
    "\n",
    "            if len(payload) < 1000:\n",
    "                end_not_reached = False\n",
    "            else:\n",
    "                start += 1000\n",
    "                limit += 1000\n",
    "        else:\n",
    "            end_not_reached = False\n",
    "    \n",
    "print(result)\n",
    "        "
   ]
  },
  {
   "cell_type": "markdown",
   "metadata": {},
   "source": [
    "### write payments data to json file "
   ]
  },
  {
   "cell_type": "code",
   "execution_count": 3,
   "metadata": {},
   "outputs": [
    {
     "name": "stdout",
     "output_type": "stream",
     "text": [
      "/home/user/projects/ol-analytical-research/assets/generated/payments/payments_PR20221001_002.json created...\n"
     ]
    }
   ],
   "source": [
    "fq_filename = f\"{Config.PROJECT_PATH}/assets/generated/payments/payments_{Config.PAYMENT_ROUND}.json\"\n",
    "\n",
    "# write result pretty-printed to a file\n",
    "payment_file = open(fq_filename, \"w\")\n",
    "payment_file.write(json.dumps(result, indent=4, sort_keys=True))\n",
    "payment_file.close()\n",
    "\n",
    "print(f\"{fq_filename} created...\")"
   ]
  },
  {
   "cell_type": "markdown",
   "metadata": {},
   "source": [
    "## Generate a report\n",
    "### Merge data files"
   ]
  },
  {
   "cell_type": "code",
   "execution_count": 4,
   "metadata": {},
   "outputs": [
    {
     "name": "stdout",
     "output_type": "stream",
     "text": [
      "loading files...\n",
      "/home/user/projects/ol-analytical-research/assets/generated/payments/payments_PR20221001_001.json\n",
      "/home/user/projects/ol-analytical-research/assets/generated/payments/payments_PR20221010_001.json\n",
      "/home/user/projects/ol-analytical-research/assets/generated/payments/payments_PR20221001_002.json\n",
      "\n",
      "OUTPUT\n",
      "[{'artifacts': ['https://github.com/paulito123/ol-analytical-research'], 'contributor': '5F8AC83A9B3BF2EFF20A6C16CD05C111', 'contributor_role': 'broker', 'description': 'Coordinating the project, developing 50%', 'workgroup_id': 'analytics-wg', 'assignment_ref': 'https://airtable.com/appuiDshjiBzOAGl2/tblixhNzkEaKt3a75/viw77ncDURPkx2Mln/rec4D7I4k2KS4ytt5?blocks=hide', 'payment_type': 'work-related', 'reviewer': '5F8AC83A9B3BF2EFF20A6C16CD05C111', 'tx': {'data': {'amount': {'amount': 500000000, 'currency': 'GAS'}, 'metadata': '6163636f756e742067656e65726174696f6e', 'receiver': '5f8ac83a9b3bf2eff20a6c16cd05c111', 'sender': '0cb4fef910b686e5ae39049fb892cb24', 'type': 'receivedpayment'}, 'key': '00000000000000005f8ac83a9b3bf2eff20a6c16cd05c111', 'sequence_number': 0, 'transaction_version': 70167699}}, {'artifacts': ['https://github.com/0L-Analytics/ol-analytical-research'], 'contributor': '5DB97DD068263449C8EB369DC2312AFA', 'contributor_role': 'developer', 'description': 'This is another dummy', 'workgroup_id': 'analytics-wg', 'assignment_ref': 'https://airtable.com/appuiDshjiBzOAGl2/tblixhNzkEaKt3a75/viw77ncDURPkx2Mln/recrJJkEMRt5aCYGT?blocks=hide', 'payment_type': 'work-related', 'reviewer': '5F8AC83A9B3BF2EFF20A6C16CD05C111', 'tx': {'data': {'amount': {'amount': 137853170, 'currency': 'GAS'}, 'metadata': '66756c6c6e6f64655f73756273696479', 'receiver': '5db97dd068263449c8eb369dc2312afa', 'sender': '00000000000000000000000000000000', 'type': 'receivedpayment'}, 'key': '00000000000000005db97dd068263449c8eb369dc2312afa', 'sequence_number': 104, 'transaction_version': 70340591}}, {'artifacts': [], 'contributor': 'E8DF1AFD258A10BD0392E1A8D274CC81', 'contributor_role': '', 'description': 'reviewing work done', 'workgroup_id': 'analytics-wg', 'assignment_ref': 'https://airtable.com/appuiDshjiBzOAGl2/tblixhNzkEaKt3a75/viw77ncDURPkx2Mln/recrJJkEMRt5aCYGT?blocks=hide', 'payment_type': 'review', 'reviewer': 'None', 'tx': {'data': {'amount': {'amount': 137853170, 'currency': 'GAS'}, 'metadata': '66756c6c6e6f64655f73756273696479', 'receiver': 'e8df1afd258a10bd0392e1a8d274cc81', 'sender': '00000000000000000000000000000000', 'type': 'receivedpayment'}, 'key': '0000000000000000e8df1afd258a10bd0392e1a8d274cc81', 'sequence_number': 103, 'transaction_version': 70340591}}, {'artifacts': ['http://Link.to.docs.produced'], 'contributor': '5DB97DD068263449C8EB369DC2312AFA', 'contributor_role': 'default-community-member', 'description': 'documentation produced', 'workgroup_id': 'hustle-karma-wg', 'assignment_ref': 'http://Link.to.airtable', 'payment_type': 'work-related', 'reviewer': 'E8DF1AFD258A10BD0392E1A8D274CC81', 'tx': {'data': {'amount': {'amount': 126763455, 'currency': 'GAS'}, 'metadata': '66756c6c6e6f64655f73756273696479', 'receiver': '5db97dd068263449c8eb369dc2312afa', 'sender': '00000000000000000000000000000000', 'type': 'receivedpayment'}, 'key': '00000000000000005db97dd068263449c8eb369dc2312afa', 'sequence_number': 105, 'transaction_version': 70550900}}, {'artifacts': ['http://link.to.testresults.on.github'], 'contributor': 'E8DF1AFD258A10BD0392E1A8D274CC81', 'contributor_role': 'tester', 'description': 'testing of API', 'workgroup_id': 'analytics-wg', 'assignment_ref': 'http://Link.to.airtable', 'payment_type': 'work-related', 'reviewer': '5DB97DD068263449C8EB369DC2312AFA', 'tx': {'data': {'amount': {'amount': 126763455, 'currency': 'GAS'}, 'metadata': '66756c6c6e6f64655f73756273696479', 'receiver': 'e8df1afd258a10bd0392e1a8d274cc81', 'sender': '00000000000000000000000000000000', 'type': 'receivedpayment'}, 'key': '0000000000000000e8df1afd258a10bd0392e1a8d274cc81', 'sequence_number': 104, 'transaction_version': 70550900}}]\n"
     ]
    }
   ],
   "source": [
    "# assign directory\n",
    "directory = f'{Config.PROJECT_PATH}/assets/generated/payments'\n",
    "\n",
    "# define output\n",
    "output = []\n",
    "\n",
    "print(\"loading files...\")\n",
    " \n",
    "# iterate payment files\n",
    "for filename in os.listdir(directory):\n",
    "    fq_filename = os.path.join(directory, filename)\n",
    "\n",
    "    if os.path.isfile(fq_filename) and filename[-5:] == \".json\":\n",
    "        print(fq_filename)\n",
    "        with open(fq_filename, 'r') as f:\n",
    "            data = json.load(f)\n",
    "            output += data\n",
    "\n",
    "print(\"\")\n",
    "print(\"OUTPUT\")\n",
    "print(output)"
   ]
  },
  {
   "cell_type": "markdown",
   "metadata": {},
   "source": [
    "### Reorganise, transform and filter report data"
   ]
  },
  {
   "cell_type": "code",
   "execution_count": 5,
   "metadata": {},
   "outputs": [],
   "source": [
    "report_data = {}\n",
    "for p_object in output:\n",
    "\n",
    "    if p_object['workgroup_id'] in report_data:\n",
    "        ...\n",
    "    else:\n",
    "        report_data[\"workgroup_id\"] = p_object\n",
    "    \n"
   ]
  }
 ],
 "metadata": {
  "kernelspec": {
   "display_name": "ol-analytics-research",
   "language": "python",
   "name": "ol-analytics-research"
  },
  "language_info": {
   "codemirror_mode": {
    "name": "ipython",
    "version": 3
   },
   "file_extension": ".py",
   "mimetype": "text/x-python",
   "name": "python",
   "nbconvert_exporter": "python",
   "pygments_lexer": "ipython3",
   "version": "3.9.2"
  },
  "orig_nbformat": 4,
  "vscode": {
   "interpreter": {
    "hash": "31f2aee4e71d21fbe5cf8b01ff0e069b9275f58929596ceb00d14d90e3e16cd6"
   }
  }
 },
 "nbformat": 4,
 "nbformat_minor": 2
}
