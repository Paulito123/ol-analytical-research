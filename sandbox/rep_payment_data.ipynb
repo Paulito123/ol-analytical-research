{
 "cells": [
  {
   "cell_type": "markdown",
   "metadata": {},
   "source": [
    "# 0L Contributors payments data \n",
    "## Generate payments data\n",
    "### Pre-requisites\n",
    "- access to well formed payments.json files\n",
    "- a correctly configured config.py file\n",
    "### TODO\n",
    "- make search more efficient and intelligent\n",
    "\n",
    "### Imports and loading variables"
   ]
  },
  {
   "cell_type": "code",
   "execution_count": 3,
   "metadata": {},
   "outputs": [
    {
     "name": "stdout",
     "output_type": "stream",
     "text": [
      "['5F8AC83A9B3BF2EFF20A6C16CD05C111', '5DB97DD068263449C8EB369DC2312AFA', 'E8DF1AFD258A10BD0392E1A8D274CC81']\n"
     ]
    }
   ],
   "source": [
    "import requests\n",
    "import json\n",
    "import os\n",
    "\n",
    "from config import Config\n",
    "\n",
    "f = open(Config.CONTRIBUTORS_FILEPATH)\n",
    "contributors = json.load(f)\n",
    "\n",
    "# extract all addresses to be evaluated\n",
    "address_list = [c for c in contributors.keys()]\n",
    "\n",
    "print(address_list)"
   ]
  },
  {
   "cell_type": "markdown",
   "metadata": {},
   "source": [
    "### Get payments and generate the payment.json file\n",
    "Here we will use an account list, generated from the contributors.json file, to iterate the accounts and fetch transactions which are relevant for us. On the fly, we are fetching on-chain transaction data that can be linked to real world data and generate a payments.json file which will have place holders for custom information linked to the payments."
   ]
  },
  {
   "cell_type": "code",
   "execution_count": 2,
   "metadata": {},
   "outputs": [
    {
     "name": "stdout",
     "output_type": "stream",
     "text": [
      "[]\n"
     ]
    }
   ],
   "source": [
    "# result list of all transactions, wrapped by mission data\n",
    "result = []\n",
    "\n",
    "# get all payments for address list between the given block height\n",
    "for addr in address_list:\n",
    "    \n",
    "    end_not_reached = True\n",
    "    start = 0\n",
    "    limit = 1000\n",
    "    while end_not_reached:\n",
    "        url = f\"https://0lexplorer.io/api/proxy/node/events?address={addr}&start={start}&limit={limit}\"\n",
    "        response = requests.get(url)\n",
    "        response_json = response.json()\n",
    "        if \"result\" in response_json:\n",
    "            payload = response_json[\"result\"]\n",
    "            # check the payload for data of interest\n",
    "            for tx in reversed(payload):\n",
    "                if tx['transaction_version'] >= Config.START_BLOCK:\n",
    "                    if tx['transaction_version'] <= Config.END_BLOCK and \\\n",
    "                       tx['data']['type'] in ['receivedpayment']:\n",
    "                        # create payment entry\n",
    "                        payment = {\n",
    "                            \"payment-round\": f\"{Config.PAYMENT_ROUND}\",\n",
    "                            \"contributor\": f\"{addr}\",\n",
    "                            \"workgroup_id\": \"MANUAL INPUT\",     # analytics-wg, ... \n",
    "                            \"assignment_ref\": \"MANUAL INPUT\",   # URL to airtable of custom ID?\n",
    "                            \"payment_type\": \"MANUAL INPUT\",     # work-related, bonus, rectification, ...\n",
    "                            \"description\": \"MANUAL INPUT\",      # Short description for reporting\n",
    "                            \"contributor_role\": \"MANUAL INPUT\", # broker, developer, analyst, ...\n",
    "                            \"reviewer\": \"MANUAL INPUT\",         # broker role?\n",
    "                            \"tx\": tx,\n",
    "                            \"artifacts\":[\"MANUAL INPUT\"],       # Links to work delivered if applicable\n",
    "                            }\n",
    "                        result.append(payment)\n",
    "                else:\n",
    "                    break\n",
    "\n",
    "            if len(payload) < 1000:\n",
    "                end_not_reached = False\n",
    "            else:\n",
    "                start += 1000\n",
    "                limit += 1000\n",
    "        else:\n",
    "            end_not_reached = False\n",
    "    \n",
    "print(result)\n",
    "        "
   ]
  },
  {
   "cell_type": "markdown",
   "metadata": {},
   "source": [
    "### Write payments data to json file "
   ]
  },
  {
   "cell_type": "code",
   "execution_count": 3,
   "metadata": {},
   "outputs": [
    {
     "name": "stdout",
     "output_type": "stream",
     "text": [
      "/home/user/projects/ol-analytical-research/assets/generated/payments/payments_PR20221001_002.json created...\n"
     ]
    }
   ],
   "source": [
    "fq_filename = f\"{Config.PAYMENTS_DIR}/payments_{Config.PAYMENT_ROUND}.json\"\n",
    "\n",
    "# write result pretty-printed to a file\n",
    "payment_file = open(fq_filename, \"w\")\n",
    "payment_file.write(json.dumps(result, indent=4, sort_keys=True))\n",
    "payment_file.close()\n",
    "\n",
    "print(f\"{fq_filename} created...\")"
   ]
  }
 ],
 "metadata": {
  "kernelspec": {
   "display_name": "ol-analytics-research",
   "language": "python",
   "name": "ol-analytics-research"
  },
  "language_info": {
   "codemirror_mode": {
    "name": "ipython",
    "version": 3
   },
   "file_extension": ".py",
   "mimetype": "text/x-python",
   "name": "python",
   "nbconvert_exporter": "python",
   "pygments_lexer": "ipython3",
   "version": "3.9.2"
  },
  "orig_nbformat": 4,
  "vscode": {
   "interpreter": {
    "hash": "31f2aee4e71d21fbe5cf8b01ff0e069b9275f58929596ceb00d14d90e3e16cd6"
   }
  }
 },
 "nbformat": 4,
 "nbformat_minor": 2
}
